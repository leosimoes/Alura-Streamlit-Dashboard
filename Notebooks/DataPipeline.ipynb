{
 "cells": [
  {
   "cell_type": "markdown",
   "source": [
    "# Alura - Streamlit - Dashboard de Vendas\n",
    "\n",
    "Autor: Leonardo Simões"
   ],
   "metadata": {
    "collapsed": false
   },
   "id": "5d3d4411c99a8b9d"
  },
  {
   "cell_type": "code",
   "execution_count": 1,
   "outputs": [],
   "source": [
    "import pandas as pd\n",
    "import requests as rq"
   ],
   "metadata": {
    "collapsed": false,
    "ExecuteTime": {
     "end_time": "2024-01-04T22:58:42.453128200Z",
     "start_time": "2024-01-04T22:58:41.120857900Z"
    }
   },
   "id": "5160cdba1316d463"
  },
  {
   "cell_type": "code",
   "execution_count": 2,
   "outputs": [],
   "source": [
    "URL = 'https://labdados.com/produtos'"
   ],
   "metadata": {
    "collapsed": false,
    "ExecuteTime": {
     "end_time": "2024-01-04T22:58:46.676036700Z",
     "start_time": "2024-01-04T22:58:46.648955600Z"
    }
   },
   "id": "911ac2749dab9c18"
  },
  {
   "cell_type": "code",
   "execution_count": 3,
   "outputs": [
    {
     "data": {
      "text/plain": "                    Produto   Categoria do Produto  Preço     Frete  \\\n0       Modelagem preditiva                 livros  92.45  5.609697   \n1  Iniciando em programação                 livros  43.84  0.000000   \n2                  Pandeiro  instrumentos musicais  87.18  2.226512   \n3            Corda de pular        esporte e lazer  13.65  1.257926   \n4            Dinossauro Rex             brinquedos  28.32  2.039059   \n\n  Data da Compra          Vendedor Local da compra  Avaliação da compra  \\\n0     01/01/2020      Thiago Silva              BA                    1   \n1     01/01/2020  Mariana Ferreira              SP                    5   \n2     01/01/2020      Thiago Silva              RJ                    4   \n3     01/01/2020    Camila Ribeiro              RJ                    4   \n4     01/01/2020     Juliana Costa              RJ                    1   \n\n  Tipo de pagamento  Quantidade de parcelas    lat    lon  \n0    cartao_credito                       3 -13.29 -41.71  \n1    cartao_credito                       1 -22.19 -48.79  \n2    cartao_credito                       4 -22.25 -42.66  \n3            boleto                       1 -22.25 -42.66  \n4     cartao_debito                       1 -22.25 -42.66  ",
      "text/html": "<div>\n<style scoped>\n    .dataframe tbody tr th:only-of-type {\n        vertical-align: middle;\n    }\n\n    .dataframe tbody tr th {\n        vertical-align: top;\n    }\n\n    .dataframe thead th {\n        text-align: right;\n    }\n</style>\n<table border=\"1\" class=\"dataframe\">\n  <thead>\n    <tr style=\"text-align: right;\">\n      <th></th>\n      <th>Produto</th>\n      <th>Categoria do Produto</th>\n      <th>Preço</th>\n      <th>Frete</th>\n      <th>Data da Compra</th>\n      <th>Vendedor</th>\n      <th>Local da compra</th>\n      <th>Avaliação da compra</th>\n      <th>Tipo de pagamento</th>\n      <th>Quantidade de parcelas</th>\n      <th>lat</th>\n      <th>lon</th>\n    </tr>\n  </thead>\n  <tbody>\n    <tr>\n      <th>0</th>\n      <td>Modelagem preditiva</td>\n      <td>livros</td>\n      <td>92.45</td>\n      <td>5.609697</td>\n      <td>01/01/2020</td>\n      <td>Thiago Silva</td>\n      <td>BA</td>\n      <td>1</td>\n      <td>cartao_credito</td>\n      <td>3</td>\n      <td>-13.29</td>\n      <td>-41.71</td>\n    </tr>\n    <tr>\n      <th>1</th>\n      <td>Iniciando em programação</td>\n      <td>livros</td>\n      <td>43.84</td>\n      <td>0.000000</td>\n      <td>01/01/2020</td>\n      <td>Mariana Ferreira</td>\n      <td>SP</td>\n      <td>5</td>\n      <td>cartao_credito</td>\n      <td>1</td>\n      <td>-22.19</td>\n      <td>-48.79</td>\n    </tr>\n    <tr>\n      <th>2</th>\n      <td>Pandeiro</td>\n      <td>instrumentos musicais</td>\n      <td>87.18</td>\n      <td>2.226512</td>\n      <td>01/01/2020</td>\n      <td>Thiago Silva</td>\n      <td>RJ</td>\n      <td>4</td>\n      <td>cartao_credito</td>\n      <td>4</td>\n      <td>-22.25</td>\n      <td>-42.66</td>\n    </tr>\n    <tr>\n      <th>3</th>\n      <td>Corda de pular</td>\n      <td>esporte e lazer</td>\n      <td>13.65</td>\n      <td>1.257926</td>\n      <td>01/01/2020</td>\n      <td>Camila Ribeiro</td>\n      <td>RJ</td>\n      <td>4</td>\n      <td>boleto</td>\n      <td>1</td>\n      <td>-22.25</td>\n      <td>-42.66</td>\n    </tr>\n    <tr>\n      <th>4</th>\n      <td>Dinossauro Rex</td>\n      <td>brinquedos</td>\n      <td>28.32</td>\n      <td>2.039059</td>\n      <td>01/01/2020</td>\n      <td>Juliana Costa</td>\n      <td>RJ</td>\n      <td>1</td>\n      <td>cartao_debito</td>\n      <td>1</td>\n      <td>-22.25</td>\n      <td>-42.66</td>\n    </tr>\n  </tbody>\n</table>\n</div>"
     },
     "execution_count": 3,
     "metadata": {},
     "output_type": "execute_result"
    }
   ],
   "source": [
    "response = rq.get(URL)\n",
    "df = pd.DataFrame.from_dict(response.json())\n",
    "df.head()"
   ],
   "metadata": {
    "collapsed": false,
    "ExecuteTime": {
     "end_time": "2024-01-04T22:58:50.759705400Z",
     "start_time": "2024-01-04T22:58:47.544998400Z"
    }
   },
   "id": "a1af82308fac7c8d"
  },
  {
   "cell_type": "code",
   "execution_count": 4,
   "outputs": [
    {
     "data": {
      "text/plain": "(9435, 12)"
     },
     "execution_count": 4,
     "metadata": {},
     "output_type": "execute_result"
    }
   ],
   "source": [
    "df.shape"
   ],
   "metadata": {
    "collapsed": false,
    "ExecuteTime": {
     "end_time": "2024-01-04T22:58:54.064297400Z",
     "start_time": "2024-01-04T22:58:54.040891900Z"
    }
   },
   "id": "f8375e5149c722ed"
  },
  {
   "cell_type": "code",
   "execution_count": 5,
   "outputs": [
    {
     "name": "stdout",
     "output_type": "stream",
     "text": [
      "<class 'pandas.core.frame.DataFrame'>\n",
      "RangeIndex: 9435 entries, 0 to 9434\n",
      "Data columns (total 12 columns):\n",
      " #   Column                  Non-Null Count  Dtype  \n",
      "---  ------                  --------------  -----  \n",
      " 0   Produto                 9435 non-null   object \n",
      " 1   Categoria do Produto    9435 non-null   object \n",
      " 2   Preço                   9435 non-null   float64\n",
      " 3   Frete                   9435 non-null   float64\n",
      " 4   Data da Compra          9435 non-null   object \n",
      " 5   Vendedor                9435 non-null   object \n",
      " 6   Local da compra         9435 non-null   object \n",
      " 7   Avaliação da compra     9435 non-null   int64  \n",
      " 8   Tipo de pagamento       9435 non-null   object \n",
      " 9   Quantidade de parcelas  9435 non-null   int64  \n",
      " 10  lat                     9435 non-null   float64\n",
      " 11  lon                     9435 non-null   float64\n",
      "dtypes: float64(4), int64(2), object(6)\n",
      "memory usage: 884.7+ KB\n"
     ]
    }
   ],
   "source": [
    "df.info()"
   ],
   "metadata": {
    "collapsed": false,
    "ExecuteTime": {
     "end_time": "2024-01-04T22:58:54.569259100Z",
     "start_time": "2024-01-04T22:58:54.507497300Z"
    }
   },
   "id": "316819ee49436cbb"
  },
  {
   "cell_type": "code",
   "execution_count": 6,
   "outputs": [
    {
     "data": {
      "text/plain": "             Preço        Frete  Avaliação da compra  Quantidade de parcelas  \\\ncount  9435.000000  9435.000000          9435.000000             9435.000000   \nmean    622.309570    33.167002             4.014520                2.927398   \nstd     787.094508    41.973711             1.390518                2.802776   \nmin      10.070000     0.000000             1.000000                1.000000   \n25%      73.610000     4.009423             3.000000                1.000000   \n50%     295.350000    15.648481             5.000000                1.000000   \n75%     884.405000    46.591030             5.000000                4.000000   \nmax    3969.380000   216.707633             5.000000               24.000000   \n\n               lat          lon  \ncount  9435.000000  9435.000000  \nmean    -20.534059   -47.171176  \nstd       5.399153     4.177887  \nmin     -30.170000   -70.550000  \n25%     -22.250000   -48.790000  \n50%     -22.190000   -48.790000  \n75%     -18.100000   -44.380000  \nmax       1.990000   -36.590000  ",
      "text/html": "<div>\n<style scoped>\n    .dataframe tbody tr th:only-of-type {\n        vertical-align: middle;\n    }\n\n    .dataframe tbody tr th {\n        vertical-align: top;\n    }\n\n    .dataframe thead th {\n        text-align: right;\n    }\n</style>\n<table border=\"1\" class=\"dataframe\">\n  <thead>\n    <tr style=\"text-align: right;\">\n      <th></th>\n      <th>Preço</th>\n      <th>Frete</th>\n      <th>Avaliação da compra</th>\n      <th>Quantidade de parcelas</th>\n      <th>lat</th>\n      <th>lon</th>\n    </tr>\n  </thead>\n  <tbody>\n    <tr>\n      <th>count</th>\n      <td>9435.000000</td>\n      <td>9435.000000</td>\n      <td>9435.000000</td>\n      <td>9435.000000</td>\n      <td>9435.000000</td>\n      <td>9435.000000</td>\n    </tr>\n    <tr>\n      <th>mean</th>\n      <td>622.309570</td>\n      <td>33.167002</td>\n      <td>4.014520</td>\n      <td>2.927398</td>\n      <td>-20.534059</td>\n      <td>-47.171176</td>\n    </tr>\n    <tr>\n      <th>std</th>\n      <td>787.094508</td>\n      <td>41.973711</td>\n      <td>1.390518</td>\n      <td>2.802776</td>\n      <td>5.399153</td>\n      <td>4.177887</td>\n    </tr>\n    <tr>\n      <th>min</th>\n      <td>10.070000</td>\n      <td>0.000000</td>\n      <td>1.000000</td>\n      <td>1.000000</td>\n      <td>-30.170000</td>\n      <td>-70.550000</td>\n    </tr>\n    <tr>\n      <th>25%</th>\n      <td>73.610000</td>\n      <td>4.009423</td>\n      <td>3.000000</td>\n      <td>1.000000</td>\n      <td>-22.250000</td>\n      <td>-48.790000</td>\n    </tr>\n    <tr>\n      <th>50%</th>\n      <td>295.350000</td>\n      <td>15.648481</td>\n      <td>5.000000</td>\n      <td>1.000000</td>\n      <td>-22.190000</td>\n      <td>-48.790000</td>\n    </tr>\n    <tr>\n      <th>75%</th>\n      <td>884.405000</td>\n      <td>46.591030</td>\n      <td>5.000000</td>\n      <td>4.000000</td>\n      <td>-18.100000</td>\n      <td>-44.380000</td>\n    </tr>\n    <tr>\n      <th>max</th>\n      <td>3969.380000</td>\n      <td>216.707633</td>\n      <td>5.000000</td>\n      <td>24.000000</td>\n      <td>1.990000</td>\n      <td>-36.590000</td>\n    </tr>\n  </tbody>\n</table>\n</div>"
     },
     "execution_count": 6,
     "metadata": {},
     "output_type": "execute_result"
    }
   ],
   "source": [
    "df.describe()"
   ],
   "metadata": {
    "collapsed": false,
    "ExecuteTime": {
     "end_time": "2024-01-04T22:58:54.855959800Z",
     "start_time": "2024-01-04T22:58:54.809529400Z"
    }
   },
   "id": "a342155c0edd98e0"
  },
  {
   "cell_type": "code",
   "execution_count": 7,
   "outputs": [],
   "source": [
    "assert df.isna().sum().sum() == 0"
   ],
   "metadata": {
    "collapsed": false,
    "ExecuteTime": {
     "end_time": "2024-01-04T22:58:55.264240300Z",
     "start_time": "2024-01-04T22:58:55.239677300Z"
    }
   },
   "id": "d73c49876f56b348"
  },
  {
   "cell_type": "code",
   "execution_count": 8,
   "outputs": [],
   "source": [
    "assert df.duplicated().sum() == 0"
   ],
   "metadata": {
    "collapsed": false,
    "ExecuteTime": {
     "end_time": "2024-01-04T22:58:56.274989Z",
     "start_time": "2024-01-04T22:58:56.220060Z"
    }
   },
   "id": "9d8cb511597af52d"
  },
  {
   "cell_type": "code",
   "execution_count": 9,
   "outputs": [
    {
     "data": {
      "text/plain": "27"
     },
     "execution_count": 9,
     "metadata": {},
     "output_type": "execute_result"
    }
   ],
   "source": [
    "df['Local da compra'].nunique()"
   ],
   "metadata": {
    "collapsed": false,
    "ExecuteTime": {
     "end_time": "2024-01-04T22:58:56.858484200Z",
     "start_time": "2024-01-04T22:58:56.829722800Z"
    }
   },
   "id": "a8fe0078c53fd49d"
  },
  {
   "cell_type": "code",
   "execution_count": 10,
   "outputs": [],
   "source": [
    "regioes_por_estado = {\n",
    "    'Norte': ['AM', 'RR', 'AP', 'PA', 'TO', 'RO', 'AC'],\n",
    "    'Nordeste': ['MA', 'PI', 'CE', 'RN', 'PB', 'PE', 'AL', 'SE', 'BA'],\n",
    "    'Centro-Oeste': ['MT', 'MS', 'GO', 'DF'],\n",
    "    'Sudeste': ['SP', 'RJ', 'MG', 'ES'],\n",
    "    'Sul': ['PR', 'SC', 'RS']\n",
    "}"
   ],
   "metadata": {
    "collapsed": false,
    "ExecuteTime": {
     "end_time": "2024-01-04T22:58:57.471626400Z",
     "start_time": "2024-01-04T22:58:57.452097900Z"
    }
   },
   "id": "1d42a3bfb77c334a"
  },
  {
   "cell_type": "code",
   "execution_count": 11,
   "outputs": [],
   "source": [
    "def obter_regiao(estado):\n",
    "    for regiao, estados in regioes_por_estado.items():\n",
    "        if estado in estados:\n",
    "            return regiao\n",
    "    return 'Desconhecida'"
   ],
   "metadata": {
    "collapsed": false,
    "ExecuteTime": {
     "end_time": "2024-01-04T22:58:59.099245300Z",
     "start_time": "2024-01-04T22:58:59.080725400Z"
    }
   },
   "id": "e662351f1ddd39ab"
  },
  {
   "cell_type": "code",
   "execution_count": 12,
   "outputs": [],
   "source": [
    "df['Região'] = df['Local da compra'].apply(obter_regiao)"
   ],
   "metadata": {
    "collapsed": false,
    "ExecuteTime": {
     "end_time": "2024-01-04T22:58:59.511791100Z",
     "start_time": "2024-01-04T22:58:59.489425800Z"
    }
   },
   "id": "23d6ae38070f73e0"
  },
  {
   "cell_type": "code",
   "execution_count": 13,
   "outputs": [],
   "source": [
    "assert 'Região' in df.columns.values\n",
    "assert df['Região'].nunique() == 5"
   ],
   "metadata": {
    "collapsed": false,
    "ExecuteTime": {
     "end_time": "2024-01-04T22:58:59.916559900Z",
     "start_time": "2024-01-04T22:58:59.896747300Z"
    }
   },
   "id": "107231ba07b280a1"
  },
  {
   "cell_type": "code",
   "execution_count": 14,
   "outputs": [
    {
     "data": {
      "text/plain": "0   2020-01-01\n1   2020-01-01\n2   2020-01-01\n3   2020-01-01\n4   2020-01-01\nName: Data da Compra, dtype: datetime64[ns]"
     },
     "execution_count": 14,
     "metadata": {},
     "output_type": "execute_result"
    }
   ],
   "source": [
    "df['Data da Compra'] = pd.to_datetime(df['Data da Compra'], format='%d/%m/%Y')\n",
    "df['Data da Compra'].head()"
   ],
   "metadata": {
    "collapsed": false,
    "ExecuteTime": {
     "end_time": "2024-01-04T22:59:00.435200Z",
     "start_time": "2024-01-04T22:59:00.401054800Z"
    }
   },
   "id": "cc09bb4389df34c2"
  },
  {
   "cell_type": "code",
   "execution_count": 15,
   "outputs": [],
   "source": [
    "assert df['Data da Compra'].dtype.str != '|O'"
   ],
   "metadata": {
    "collapsed": false,
    "ExecuteTime": {
     "end_time": "2024-01-04T22:59:01.268945900Z",
     "start_time": "2024-01-04T22:59:01.264429100Z"
    }
   },
   "id": "9d5610b900307109"
  },
  {
   "cell_type": "code",
   "execution_count": 16,
   "outputs": [],
   "source": [
    "df['Ano'] = df['Data da Compra'].dt.year"
   ],
   "metadata": {
    "collapsed": false,
    "ExecuteTime": {
     "end_time": "2024-01-04T22:59:02.642901100Z",
     "start_time": "2024-01-04T22:59:02.616265600Z"
    }
   },
   "id": "1def1f428bb9fa5b"
  },
  {
   "cell_type": "code",
   "execution_count": 17,
   "outputs": [],
   "source": [
    "assert 'Ano' in df.columns.values"
   ],
   "metadata": {
    "collapsed": false,
    "ExecuteTime": {
     "end_time": "2024-01-04T22:59:03.034706Z",
     "start_time": "2024-01-04T22:59:03.000690700Z"
    }
   },
   "id": "e191264892a69332"
  },
  {
   "cell_type": "code",
   "execution_count": 18,
   "outputs": [],
   "source": [
    "df['Mês'] = df['Data da Compra'].dt.month"
   ],
   "metadata": {
    "collapsed": false,
    "ExecuteTime": {
     "end_time": "2024-01-04T22:59:03.414877800Z",
     "start_time": "2024-01-04T22:59:03.392879600Z"
    }
   },
   "id": "e3f108e474a52c62"
  },
  {
   "cell_type": "code",
   "execution_count": 19,
   "outputs": [],
   "source": [
    "assert 'Mês' in df.columns.values"
   ],
   "metadata": {
    "collapsed": false,
    "ExecuteTime": {
     "end_time": "2024-01-04T22:59:04.256121400Z",
     "start_time": "2024-01-04T22:59:04.233111Z"
    }
   },
   "id": "f5257bd78ad0562"
  },
  {
   "cell_type": "code",
   "execution_count": 20,
   "outputs": [],
   "source": [
    "df.to_csv('../Dados/dados.csv', index=False)"
   ],
   "metadata": {
    "collapsed": false,
    "ExecuteTime": {
     "end_time": "2024-01-04T22:59:05.183535900Z",
     "start_time": "2024-01-04T22:59:05.017536800Z"
    }
   },
   "id": "bf7bf728133292d7"
  },
  {
   "cell_type": "markdown",
   "source": [
    "## Referências\n",
    "https://www.alura.com.br/conteudo/streamlit-construindo-dashboard-interativo"
   ],
   "metadata": {
    "collapsed": false
   },
   "id": "831cd3a8b73024d8"
  }
 ],
 "metadata": {
  "kernelspec": {
   "display_name": "Python 3",
   "language": "python",
   "name": "python3"
  },
  "language_info": {
   "codemirror_mode": {
    "name": "ipython",
    "version": 2
   },
   "file_extension": ".py",
   "mimetype": "text/x-python",
   "name": "python",
   "nbconvert_exporter": "python",
   "pygments_lexer": "ipython2",
   "version": "2.7.6"
  }
 },
 "nbformat": 4,
 "nbformat_minor": 5
}
